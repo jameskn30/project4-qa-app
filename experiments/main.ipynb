{
 "cells": [
  {
   "cell_type": "markdown",
   "metadata": {},
   "source": [
    "### Experimentation to take list of messages and group similarity\n"
   ]
  },
  {
   "cell_type": "code",
   "execution_count": 74,
   "metadata": {},
   "outputs": [],
   "source": [
    "import os\n",
    "\n",
    "from haystack import Pipeline, component\n",
    "from haystack.components.builders.prompt_builder import PromptBuilder\n",
    "from haystack_integrations.components.generators.ollama import OllamaGenerator\n",
    "from haystack.dataclasses import ChatMessage\n",
    "from typing import Optional, List, Dict\n",
    "from pydantic import BaseModel, ConfigDict\n",
    "from pprint import pprint\n",
    "import json"
   ]
  },
  {
   "cell_type": "code",
   "execution_count": 75,
   "metadata": {},
   "outputs": [],
   "source": [
    "messages = [\n",
    "    \"How do I reset my password?\",\n",
    "    \"I forgot my password, how can I recover it?\",\n",
    "    \"What is the process to change my password?\",\n",
    "    \"Can you help me with my account recovery?\",\n",
    "    \"How do I update my profile information?\",\n",
    "    \"I need to change my email address on my account.\",\n",
    "    \"What are the store hours for the weekend?\",\n",
    "    \"Is the store open on holidays?\",\n",
    "    \"Can I return an item without a receipt?\",\n",
    "    \"What is the return policy for online purchases?\",\n",
    "    \"How do I track my order?\",\n",
    "    \"My order hasn't arrived yet, what should I do?\",\n",
    "    \"Can I change the shipping address for my order?\",\n",
    "    \"How do I apply for a job at your company?\",\n",
    "    \"Are there any job openings in the marketing department?\",\n",
    "    \"What benefits do you offer to employees?\",\n",
    "    \"How do I schedule an appointment?\",\n",
    "    \"Can I reschedule my appointment online?\",\n",
    "    \"What documents do I need to bring to my appointment?\",\n",
    "    \"How do I cancel my subscription?\",\n",
    "    \"What are the subscription plans available?\",\n",
    "    \"Can I upgrade my subscription plan?\",\n",
    "    \"How do I contact customer support?\",\n",
    "    \"Is there a live chat option for customer support?\",\n",
    "    \"What is the phone number for customer support?\",\n",
    "    \"How do I download the mobile app?\",\n",
    "    \"Is the mobile app available for both iOS and Android?\",\n",
    "    \"How do I report a bug in the mobile app?\",\n",
    "    \"Can I use the mobile app to make payments?\",\n",
    "    \"What payment methods are accepted?\",\n",
    "    \"How do I add a new payment method?\",\n",
    "    \"Can I set up automatic payments?\",\n",
    "    \"How do I delete my account?\",\n",
    "    \"What happens to my data if I delete my account?\",\n",
    "    \"Can I reactivate my account after deleting it?\",\n",
    "    \"How do I change my notification settings?\",\n",
    "    \"Can I turn off email notifications?\",\n",
    "    \"How do I enable push notifications?\",\n",
    "    \"What is the privacy policy of your company?\",\n",
    "    \"How do you handle customer data?\",\n",
    "    \"What security measures are in place to protect my information?\"\n",
    "]"
   ]
  },
  {
   "cell_type": "code",
   "execution_count": 76,
   "metadata": {},
   "outputs": [
    {
     "name": "stdout",
     "output_type": "stream",
     "text": [
      "None\n"
     ]
    }
   ],
   "source": [
    "# Load environment variable\n",
    "my_env_var = os.getenv('GROQ_API')\n",
    "print(my_env_var)"
   ]
  },
  {
   "cell_type": "code",
   "execution_count": 77,
   "metadata": {},
   "outputs": [
    {
     "name": "stdout",
     "output_type": "stream",
     "text": [
      "{'additionalProperties': False,\n",
      " 'properties': {'groups': {'items': {'items': {'type': 'string'},\n",
      "                                     'type': 'array'},\n",
      "                           'title': 'Groups',\n",
      "                           'type': 'array'}},\n",
      " 'required': ['groups'],\n",
      " 'title': 'Answer',\n",
      " 'type': 'object'}\n"
     ]
    }
   ],
   "source": [
    "class Answer(BaseModel):\n",
    "    groups: List[List[str]]\n",
    "    model_config = ConfigDict(extra='forbid')\n",
    "\n",
    "json_schema = Answer.model_json_schema()\n",
    "pprint(json_schema)\n",
    "\n",
    "@component\n",
    "class OutputValidator:\n",
    "\n",
    "    def __init__(self, pydantic_model: BaseModel):\n",
    "        self.pydantic_model = pydantic_model\n",
    "    \n",
    "    @component.output_types(valid_replies = List[str], invalid_replies = Optional[List[str]], error_msg = Optional[str])\n",
    "    def run(self, replies: List[str]):\n",
    "        try:\n",
    "            output_dict = json.loads(replies[0])\n",
    "            print('replies = ', output_dict)\n",
    "            self.pydantic_model.model_validate(output_dict)\n",
    "            print('[OK] valid')\n",
    "            return {'valid_replies': replies}\n",
    "        except ValueError as e:\n",
    "            print('[not OK] wrong format')\n",
    "            print(replies)\n",
    "            return {'invalid_replies': replies, 'error_msg': str(e)}\n",
    "\n",
    "def extract_valid_replies(res):\n",
    "    return json.loads(res['json_validator']['valid_replies'][0])"
   ]
  },
  {
   "cell_type": "code",
   "execution_count": null,
   "metadata": {},
   "outputs": [
    {
     "name": "stdout",
     "output_type": "stream",
     "text": [
      "['\"How can I request assistance with resetting or recovering my account information, such as password, profile, email address, or returns?\"']\n"
     ]
    }
   ],
   "source": [
    "# template = '''\n",
    "# Given the following messages: {{messages}}\n",
    "# for each message, classifiy them into groupid where each groupid is a list of similar messages.\n",
    "# Must strictly follow this JSON schema, only return the actual instances without any additional schema definition : {{schema}}\n",
    "# Only use the original messages, do not add any extra characters like newline \n",
    "\n",
    "# {% if invalid_replies and error_message %}\n",
    "#   This is your previous answer: {{invalid_replies}}\n",
    "#   Fix the error Python exception: {{error_message}}\n",
    "#   Return the corrected output without any extra explanations.\n",
    "# {% endif %}\n",
    "# '''\n",
    "\n",
    "template = '''\n",
    "  Given the following messages:\n",
    "  {{messages}}\n",
    "  Rephrase these messages into 1 message that clarify the question and keep it consise. Just the final message with no explanation and extra information\n",
    "\n",
    "'''\n",
    "MODEL = 'llama3.2:3b'\n",
    "MAX_RUN = 10\n",
    "\n",
    "#component\n",
    "prompt_template = PromptBuilder(template=template)\n",
    "llm = OllamaGenerator(model = MODEL, url=\"http://localhost:11434\") \n",
    "\n",
    "#build pipeline\n",
    "pipe = Pipeline(max_runs_per_component=MAX_RUN)\n",
    "pipe.add_component('prompt', prompt_template)\n",
    "pipe.add_component('llm', llm)\n",
    "\n",
    "#make connection\n",
    "pipe.connect('prompt', 'llm')\n",
    "\n",
    "#run pipeline\n",
    "\n",
    "res = pipe.run({'prompt': {'messages': messages[:10]}})\n",
    "\n",
    "print(res['llm']['replies'])\n",
    "\n"
   ]
  },
  {
   "cell_type": "code",
   "execution_count": null,
   "metadata": {},
   "outputs": [
    {
     "name": "stdout",
     "output_type": "stream",
     "text": [
      "['\"How can I recover my account or access my profile/account-related information?\"']\n"
     ]
    }
   ],
   "source": []
  },
  {
   "cell_type": "code",
   "execution_count": null,
   "metadata": {},
   "outputs": [],
   "source": []
  },
  {
   "cell_type": "markdown",
   "metadata": {},
   "source": []
  },
  {
   "cell_type": "code",
   "execution_count": null,
   "metadata": {},
   "outputs": [],
   "source": []
  },
  {
   "cell_type": "code",
   "execution_count": null,
   "metadata": {},
   "outputs": [],
   "source": []
  },
  {
   "cell_type": "code",
   "execution_count": null,
   "metadata": {},
   "outputs": [],
   "source": []
  },
  {
   "cell_type": "code",
   "execution_count": null,
   "metadata": {},
   "outputs": [],
   "source": []
  },
  {
   "cell_type": "code",
   "execution_count": null,
   "metadata": {},
   "outputs": [],
   "source": []
  }
 ],
 "metadata": {
  "kernelspec": {
   "display_name": "torch",
   "language": "python",
   "name": "python3"
  },
  "language_info": {
   "codemirror_mode": {
    "name": "ipython",
    "version": 3
   },
   "file_extension": ".py",
   "mimetype": "text/x-python",
   "name": "python",
   "nbconvert_exporter": "python",
   "pygments_lexer": "ipython3",
   "version": "3.12.2"
  }
 },
 "nbformat": 4,
 "nbformat_minor": 2
}
